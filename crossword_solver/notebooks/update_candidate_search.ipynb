{
 "cells": [
  {
   "cell_type": "code",
   "execution_count": null,
   "metadata": {},
   "outputs": [],
   "source": [
    "from crossword_solver.crossword_detection import detect_crossword_from_file\n",
    "from crossword_solver.solver_utils import find_whole_crossword_candidates\n",
    "import matplotlib.pyplot as plt\n",
    "from crossword_solver.paths import DATA_FOLDER_PATH\n",
    "import os\n",
    "from crossword_solver.crossword_solver import solve_crossword"
   ]
  },
  {
   "cell_type": "code",
   "execution_count": null,
   "metadata": {},
   "outputs": [],
   "source": [
    "import cv2\n",
    "from crossword_solver.square_classification import SquareType\n",
    "from copy import deepcopy\n",
    "from PIL import ImageFont, ImageDraw, Image\n",
    "from crossword_solver.paths import FONT_PATH\n",
    "from io import BytesIO\n",
    "from base64 import b64encode\n",
    "\n",
    "def show_image(image):\n",
    "    correct_colors = cv2.cvtColor(image, cv2.COLOR_BGR2RGB)\n",
    "    plt.axis('off')\n",
    "    plt.imshow(correct_colors)\n",
    "    plt.show()\n",
    "\n",
    "\n",
    "def plot_square_types(crossword):\n",
    "    font = cv2.FONT_HERSHEY_SIMPLEX   \n",
    "    fontScale = 1   \n",
    "    color = (0, 255, 0) \n",
    "    thickness = 2\n",
    "    \n",
    "    type_to_text = {\n",
    "        SquareType.HINT : \"V\",\n",
    "        SquareType.MULTIHINT : \"W\",\n",
    "        SquareType.IRRELEVANT : \"X\",\n",
    "        SquareType.EMPTY : \"0\",\n",
    "    }\n",
    "\n",
    "    plotting_image = deepcopy(crossword.image)\n",
    "    for gs in crossword.grid.flatten():\n",
    "        t = type_to_text[gs.type]\n",
    "        plotting_image = cv2.circle(plotting_image, (gs.x_min,gs.y_min), radius=3, color=(0, 0, 0), thickness=-1)\n",
    "        plotting_image = cv2.putText(plotting_image, t, (gs.x_min+20,gs.y_max-20), font,  fontScale, color, thickness, cv2.LINE_AA)\n",
    "    return plotting_image\n",
    "    #return cv2_to_base64(plotting_image) \n",
    "\n",
    "def plot_contours(crossword):\n",
    "    color = (0, 255, 0) \n",
    "    thickness = 2\n",
    "\n",
    "    plotting_image = deepcopy(crossword.image)\n",
    "    for gs in crossword.grid.flatten():\n",
    "        plotting_image = cv2.line(plotting_image, (gs.x_min,gs.y_min), (gs.x_max,gs.y_min),\n",
    "                                  color=color, thickness=thickness)\n",
    "        plotting_image = cv2.line(plotting_image, (gs.x_max,gs.y_min), (gs.x_max,gs.y_max),\n",
    "                                  color=color, thickness=thickness)\n",
    "        plotting_image = cv2.line(plotting_image, (gs.x_max,gs.y_max), (gs.x_min,gs.y_max),\n",
    "                                  color=color, thickness=thickness)\n",
    "        plotting_image = cv2.line(plotting_image, (gs.x_min,gs.y_max), (gs.x_min,gs.y_min),\n",
    "                                  color=color, thickness=thickness)\n",
    "    return plotting_image   \n",
    "\n",
    "def plot_solution_texts(crossword, solution_matrix):\n",
    "    font = ImageFont.truetype(FONT_PATH, 25)\n",
    "    image = deepcopy(crossword.image)\n",
    "    image = cv2.cvtColor(image, cv2.COLOR_BGR2RGB)\n",
    "    pil_image = Image.fromarray(image)    \n",
    "    for gs in crossword.grid.flatten():\n",
    "        if gs.type == SquareType.EMPTY:\n",
    "            t = solution_matrix[gs.grid_x, gs.grid_y].upper()\n",
    "            if t != '_':\n",
    "                draw = ImageDraw.Draw(pil_image)\n",
    "                draw.text((gs.x_min+20,gs.y_max-45), t, font=font, fill='#000')\n",
    "    return pil_image\n",
    "    #return pil_to_base64(pil_image)\n",
    "\n",
    "def plot_no_solution(crossword):\n",
    "    font = ImageFont.truetype(FONT_PATH, 40)\n",
    "    image = deepcopy(crossword.image)\n",
    "    image = cv2.cvtColor(image, cv2.COLOR_BGR2RGB)\n",
    "    pil_image = Image.fromarray(image)    \n",
    "    t = \"LAHENDUSI EI LEITUD\"\n",
    "    draw = ImageDraw.Draw(pil_image)\n",
    "    draw.text((crossword.grid_x+100, crossword.grid_y+100), t, font=font, fill='#cd0000')\n",
    "    return pil_image\n",
    "    #return pil_to_base64(pil_image)\n",
    "\n",
    "def save_image(image, name):\n",
    "    cv2.imwrite(f'C:/Users/ianigol/Documents/MAGISTER/ristsonalahendaja/crossword_solver/data/pictures/{name}.png', image)"
   ]
  },
  {
   "cell_type": "code",
   "execution_count": null,
   "metadata": {},
   "outputs": [],
   "source": [
    "nr = 10\n",
    "path = os.path.join(DATA_FOLDER_PATH, 'pictures', f'ristsona_{nr}.png')\n",
    "crossword = detect_crossword_from_file(path)"
   ]
  },
  {
   "cell_type": "code",
   "execution_count": null,
   "metadata": {},
   "outputs": [],
   "source": [
    "show_image(plot_contours(crossword))"
   ]
  },
  {
   "cell_type": "code",
   "execution_count": null,
   "metadata": {},
   "outputs": [],
   "source": [
    "save_image(plot_contours(crossword), f'ristsona_{nr}_kontuurid')"
   ]
  },
  {
   "cell_type": "code",
   "execution_count": null,
   "metadata": {},
   "outputs": [],
   "source": [
    "find_whole_crossword_candidates(crossword)"
   ]
  },
  {
   "cell_type": "code",
   "execution_count": null,
   "metadata": {},
   "outputs": [],
   "source": [
    "sqtypes = plot_square_types(crossword)"
   ]
  },
  {
   "cell_type": "code",
   "execution_count": null,
   "metadata": {},
   "outputs": [],
   "source": [
    "name = f'ristsona_{nr}_kategooriad'\n",
    "save_image(sqtypes, name)"
   ]
  },
  {
   "cell_type": "code",
   "execution_count": null,
   "metadata": {},
   "outputs": [],
   "source": [
    "no_candidates_counter = 0\n",
    "for h in crossword.hints:\n",
    "    print('vihje:', h.hint)\n",
    "    if len(h.candidates) > 0:\n",
    "        for t in h.candidates:\n",
    "            print(t.text, f'({t.source})')\n",
    "    else:\n",
    "        print('-')\n",
    "        no_candidates_counter+=1\n",
    "    print()\n",
    "    print('_________________')"
   ]
  },
  {
   "cell_type": "code",
   "execution_count": null,
   "metadata": {},
   "outputs": [],
   "source": [
    "print(len(crossword.hints), no_candidates_counter)"
   ]
  },
  {
   "cell_type": "code",
   "execution_count": null,
   "metadata": {},
   "outputs": [],
   "source": [
    "sum_found_candidates = 0\n",
    "for h in crossword.hints:\n",
    "    sum_found_candidates += len(h.candidates)\n",
    "sum_found_candidates/len(crossword.hints)"
   ]
  },
  {
   "cell_type": "code",
   "execution_count": null,
   "metadata": {},
   "outputs": [],
   "source": [
    "results = solve_crossword(crossword)\n",
    "topn_results = sorted(results, key=lambda x: x[2], reverse = True)[:5]\n",
    "topn_results = [(plot_solution_texts(crossword, matrix), round(score), intersections) for matrix, score, intersections in topn_results]"
   ]
  },
  {
   "cell_type": "code",
   "execution_count": null,
   "metadata": {},
   "outputs": [],
   "source": [
    "results"
   ]
  },
  {
   "cell_type": "code",
   "execution_count": null,
   "metadata": {},
   "outputs": [],
   "source": []
  }
 ],
 "metadata": {
  "kernelspec": {
   "display_name": "ristsona",
   "language": "python",
   "name": "python3"
  },
  "language_info": {
   "codemirror_mode": {
    "name": "ipython",
    "version": 3
   },
   "file_extension": ".py",
   "mimetype": "text/x-python",
   "name": "python",
   "nbconvert_exporter": "python",
   "pygments_lexer": "ipython3",
   "version": "3.10.13"
  }
 },
 "nbformat": 4,
 "nbformat_minor": 2
}
