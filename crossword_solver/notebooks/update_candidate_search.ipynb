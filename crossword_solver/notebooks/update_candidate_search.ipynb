{
 "cells": [
  {
   "cell_type": "code",
   "execution_count": 2,
   "metadata": {},
   "outputs": [],
   "source": [
    "from crossword_solver.candidate_search_helpers import *\n",
    "from crossword_solver.crossword_helpers import Crossword, load_crossword, Hint, Direction\n",
    "from crossword_solver.solver_helpers import solving_algorithm, display_results\n",
    "import pandas as pd\n",
    "from gensim.models import KeyedVectors"
   ]
  },
  {
   "cell_type": "code",
   "execution_count": null,
   "metadata": {},
   "outputs": [],
   "source": [
    "# Load word2vec\n",
    "#word2vec_model = KeyedVectors.load_word2vec_format('../data/lemmas.cbow.s100.w2v.bin', binary=True)"
   ]
  },
  {
   "cell_type": "code",
   "execution_count": null,
   "metadata": {},
   "outputs": [],
   "source": [
    "# Read in WordNet contents\n",
    "wn_voc = pd.read_parquet('../data/wordnet_contents.parquet')"
   ]
  },
  {
   "cell_type": "code",
   "execution_count": 4,
   "metadata": {},
   "outputs": [],
   "source": [
    "# Read in crossword\n",
    "cw = load_crossword('../data/crossword1.pickle')"
   ]
  },
  {
   "cell_type": "code",
   "execution_count": null,
   "metadata": {},
   "outputs": [],
   "source": [
    "def search_candidates(hint):\n",
    "    hint_variations = [hint.hint] # Later each hint should have a list inside already \n",
    "    length = hint.length\n",
    "    candidate_list = []\n",
    "    for text in hint_variations:\n",
    "        lemmatised_text = lemmatise_text(text)\n",
    "        candidate_list.extend(wikipedia_search(lemmatised_text))\n",
    "        candidate_list.extend(wordnet_search(lemmatised_text))\n",
    "        candidate_list.extend(create_abbreviated_candidate(text, length))\n",
    "        candidate_list.extend(create_word2vec_candidates(lemmatised_text))\n",
    "    clean_candidates(candidate_list)\n",
    "    candidate_list = remove_duplicates(candidate_list)\n",
    "    candidate_list = expand_candidates(candidate_list)\n",
    "    candidate_list = remove_duplicates(candidate_list)\n",
    "    sorted_candidates = sorted(candidate_list, key = lambda x: x.weight, reverse = True)\n",
    "    return sorted_candidates"
   ]
  },
  {
   "cell_type": "code",
   "execution_count": 7,
   "metadata": {},
   "outputs": [
    {
     "data": {
      "text/plain": [
       "must-valge loom"
      ]
     },
     "execution_count": 7,
     "metadata": {},
     "output_type": "execute_result"
    }
   ],
   "source": [
    "hint = cw.hints[1]\n",
    "hint"
   ]
  },
  {
   "cell_type": "code",
   "execution_count": 8,
   "metadata": {},
   "outputs": [
    {
     "data": {
      "text/plain": [
       "[Candidate(text='ämblik', source='word2vec', weight=0.7),\n",
       " Candidate(text='imetaja', source='word2vec', weight=0.7),\n",
       " Candidate(text='kiskja', source='word2vec', weight=0.7),\n",
       " Candidate(text='sisalik', source='word2vec', weight=0.7),\n",
       " Candidate(text='olend', source='word2vec', weight=0.7),\n",
       " Candidate(text='putukas', source='word2vec', weight=0.7),\n",
       " Candidate(text='väliselt', source='word2vec', weight=0.7),\n",
       " Candidate(text='küülik', source='word2vec', weight=0.7),\n",
       " Candidate(text='olevus', source='word2vec', weight=0.7),\n",
       " Candidate(text='elusolend', source='word2vec', weight=0.7),\n",
       " Candidate(text='naisekeha', source='word2vec', weight=0.7),\n",
       " Candidate(text='koduloom', source='word2vec', weight=0.7),\n",
       " Candidate(text='ahv', source='word2vec', weight=0.7),\n",
       " Candidate(text='madu', source='word2vec', weight=0.7),\n",
       " Candidate(text='isane', source='word2vec', weight=0.7),\n",
       " Candidate(text='loomake', source='word2vec', weight=0.7),\n",
       " Candidate(text='mustvalge', source='word2vec', weight=0.7),\n",
       " Candidate(text='roomaja', source='word2vec', weight=0.7),\n",
       " Candidate(text='inimkeha', source='word2vec', weight=0.7),\n",
       " Candidate(text='', source='viki', weight=0.6),\n",
       " Candidate(text='hard rock laager', source='viki', weight=0.6),\n",
       " Candidate(text='iirihundikoer', source='viki joint', weight=0.6),\n",
       " Candidate(text='nüüdisaegsed olümpiamängud', source='viki', weight=0.6),\n",
       " Candidate(text='suurkudu', source='viki', weight=0.6),\n",
       " Candidate(text='brasiilia fila', source='viki', weight=0.6),\n",
       " Candidate(text='baribal', source='viki', weight=0.6),\n",
       " Candidate(text='tarvastuvallalipp', source='viki joint', weight=0.6),\n",
       " Candidate(text='rahvausund', source='viki separated', weight=0.6),\n",
       " Candidate(text='sümbolid', source='viki separated', weight=0.6),\n",
       " Candidate(text='tsintsilja', source='viki', weight=0.6),\n",
       " Candidate(text='ameerikaaki', source='viki joint', weight=0.6),\n",
       " Candidate(text='loomaaed', source='viki separated', weight=0.6),\n",
       " Candidate(text='kategooriad', source='viki', weight=0.6),\n",
       " Candidate(text='afgaani', source='viki separated', weight=0.6),\n",
       " Candidate(text='eestiesiajalugu', source='viki joint', weight=0.6),\n",
       " Candidate(text='bialowiezalaasrahvuspark', source='viki joint', weight=0.6),\n",
       " Candidate(text='dharmapala', source='viki', weight=0.6),\n",
       " Candidate(text='kolõma jukagiiri keel', source='viki', weight=0.6),\n",
       " Candidate(text='mänd', source='viki', weight=0.6),\n",
       " Candidate(text='kolõmajukagiirkeel', source='viki joint', weight=0.6),\n",
       " Candidate(text='füüsika', source='viki', weight=0.6),\n",
       " Candidate(text='ameerika', source='viki separated', weight=0.6),\n",
       " Candidate(text='afgaanirebane', source='viki joint', weight=0.6),\n",
       " Candidate(text='punapanda', source='viki', weight=0.6),\n",
       " Candidate(text='eesti otsib superstaari', source='viki', weight=0.6),\n",
       " Candidate(text='palvetaja', source='viki', weight=0.6),\n",
       " Candidate(text='laas', source='viki separated', weight=0.6),\n",
       " Candidate(text='lihaveisekasvatus', source='viki', weight=0.6),\n",
       " Candidate(text='eesti esiajalugu', source='viki', weight=0.6),\n",
       " Candidate(text='tallinna loomaaed', source='viki', weight=0.6),\n",
       " Candidate(text='hard', source='viki separated', weight=0.6),\n",
       " Candidate(text='laborihiir', source='viki', weight=0.6),\n",
       " Candidate(text='mõõkvaal', source='viki', weight=0.6),\n",
       " Candidate(text='justinianusekatk', source='viki joint', weight=0.6),\n",
       " Candidate(text='lgbt sümbolid', source='viki', weight=0.6),\n",
       " Candidate(text='fennekrebane', source='viki', weight=0.6),\n",
       " Candidate(text='lipp', source='viki separated', weight=0.6),\n",
       " Candidate(text='otsib', source='viki separated', weight=0.6),\n",
       " Candidate(text='känguru', source='viki', weight=0.6),\n",
       " Candidate(text='suitshall', source='viki', weight=0.6),\n",
       " Candidate(text='olümpiamängud', source='viki separated', weight=0.6),\n",
       " Candidate(text='lagrits', source='viki', weight=0.6),\n",
       " Candidate(text='iiri', source='viki separated', weight=0.6),\n",
       " Candidate(text='rhun', source='viki', weight=0.6),\n",
       " Candidate(text='eestiotsibsuperstaari', source='viki joint', weight=0.6),\n",
       " Candidate(text='tarvastu', source='viki separated', weight=0.6),\n",
       " Candidate(text='katk', source='viki separated', weight=0.6),\n",
       " Candidate(text='ameerikaakita', source='viki joint', weight=0.6),\n",
       " Candidate(text='iiri hundikoer', source='viki', weight=0.6),\n",
       " Candidate(text='leedu rahvausund', source='viki', weight=0.6),\n",
       " Candidate(text='nüüdisaegneolümpiamängud', source='viki joint', weight=0.6),\n",
       " Candidate(text='samburud', source='viki', weight=0.6),\n",
       " Candidate(text='aki', source='viki separated', weight=0.6),\n",
       " Candidate(text='lgbtsümbolid', source='viki joint', weight=0.6),\n",
       " Candidate(text='harakas', source='viki', weight=0.6),\n",
       " Candidate(text='justinianuse', source='viki separated', weight=0.6),\n",
       " Candidate(text='inimene', source='viki', weight=0.6),\n",
       " Candidate(text='luitekass', source='viki', weight=0.6),\n",
       " Candidate(text='otsima', source='viki separated', weight=0.6),\n",
       " Candidate(text='akita', source='viki separated', weight=0.6),\n",
       " Candidate(text='jukagiir', source='viki separated', weight=0.6),\n",
       " Candidate(text='kolõma', source='viki separated', weight=0.6),\n",
       " Candidate(text='eesti', source='viki separated', weight=0.6),\n",
       " Candidate(text='superstaar', source='viki separated', weight=0.6),\n",
       " Candidate(text='tarvastuvaldlipp', source='viki joint', weight=0.6),\n",
       " Candidate(text='tarvastu valla lipp', source='viki', weight=0.6),\n",
       " Candidate(text='brasiiliafila', source='viki joint', weight=0.6),\n",
       " Candidate(text='nüüdisaegsedolümpiamängud', source='viki joint', weight=0.6),\n",
       " Candidate(text='rock', source='viki separated', weight=0.6),\n",
       " Candidate(text='sorabji', source='viki separated', weight=0.6),\n",
       " Candidate(text='kõrbesebra', source='viki', weight=0.6),\n",
       " Candidate(text='hardrocklaager', source='viki joint', weight=0.6),\n",
       " Candidate(text='afgaan', source='viki separated', weight=0.6),\n",
       " Candidate(text='kollane', source='viki', weight=0.6),\n",
       " Candidate(text='singapur', source='viki', weight=0.6),\n",
       " Candidate(text='keel', source='viki separated', weight=0.6),\n",
       " Candidate(text='leedurahvausund', source='viki joint', weight=0.6),\n",
       " Candidate(text='bialowiezalaanerahvuspark', source='viki joint', weight=0.6),\n",
       " Candidate(text='laane', source='viki separated', weight=0.6),\n",
       " Candidate(text='laager', source='viki separated', weight=0.6),\n",
       " Candidate(text='nüüdisaegne', source='viki separated', weight=0.6),\n",
       " Candidate(text='sorabj', source='viki separated', weight=0.6),\n",
       " Candidate(text='esiajalugu', source='viki separated', weight=0.6),\n",
       " Candidate(text='eestimütoloogia', source='viki joint', weight=0.6),\n",
       " Candidate(text='hobune', source='viki', weight=0.6),\n",
       " Candidate(text='superstaari', source='viki separated', weight=0.6),\n",
       " Candidate(text='valla', source='viki separated', weight=0.6),\n",
       " Candidate(text='richardsorabji', source='viki joint', weight=0.6),\n",
       " Candidate(text='jukagiiri', source='viki separated', weight=0.6),\n",
       " Candidate(text='rebane', source='viki', weight=0.6),\n",
       " Candidate(text='ameerika akita', source='viki', weight=0.6),\n",
       " Candidate(text='bialowieza laane rahvuspark', source='viki', weight=0.6),\n",
       " Candidate(text='nüüdisaegsed', source='viki separated', weight=0.6),\n",
       " Candidate(text='richardsorabj', source='viki joint', weight=0.6),\n",
       " Candidate(text='bialowieza', source='viki separated', weight=0.6),\n",
       " Candidate(text='tallinna', source='viki separated', weight=0.6),\n",
       " Candidate(text='koer', source='viki', weight=0.6),\n",
       " Candidate(text='jõesiga', source='viki', weight=0.6),\n",
       " Candidate(text='tallinnaloomaaed', source='viki joint', weight=0.6),\n",
       " Candidate(text='leedu', source='viki separated', weight=0.6),\n",
       " Candidate(text='justinianuse katk', source='viki', weight=0.6),\n",
       " Candidate(text='justinianuskatk', source='viki joint', weight=0.6),\n",
       " Candidate(text='vald', source='viki separated', weight=0.6),\n",
       " Candidate(text='kolõmajukagiirikeel', source='viki joint', weight=0.6),\n",
       " Candidate(text='afgaanrebane', source='viki joint', weight=0.6),\n",
       " Candidate(text='justinianus', source='viki separated', weight=0.6),\n",
       " Candidate(text='brasiilia', source='viki separated', weight=0.6),\n",
       " Candidate(text='kuningpüüton', source='viki', weight=0.6),\n",
       " Candidate(text='minecraft', source='viki', weight=0.6),\n",
       " Candidate(text='hundikoer', source='viki separated', weight=0.6),\n",
       " Candidate(text='lgbt', source='viki separated', weight=0.6),\n",
       " Candidate(text='fila', source='viki separated', weight=0.6),\n",
       " Candidate(text='mütoloogia', source='viki separated', weight=0.6),\n",
       " Candidate(text='eesti mütoloogia', source='viki', weight=0.6),\n",
       " Candidate(text='kõrvukrebane', source='viki', weight=0.6),\n",
       " Candidate(text='richard sorabji', source='viki', weight=0.6),\n",
       " Candidate(text='lgbtsümbol', source='viki joint', weight=0.6),\n",
       " Candidate(text='afgaani rebane', source='viki', weight=0.6),\n",
       " Candidate(text='eestiotsimasuperstaar', source='viki joint', weight=0.6),\n",
       " Candidate(text='rahvuspark', source='viki separated', weight=0.6),\n",
       " Candidate(text='sümbol', source='viki separated', weight=0.6),\n",
       " Candidate(text='richard', source='viki separated', weight=0.6)]"
      ]
     },
     "execution_count": 8,
     "metadata": {},
     "output_type": "execute_result"
    }
   ],
   "source": [
    "search_candidates(hint)"
   ]
  },
  {
   "cell_type": "code",
   "execution_count": null,
   "metadata": {},
   "outputs": [],
   "source": [
    "WORDNET_VOCAB = 'wordnet vocab'\n",
    "WORDNET_VOCAB_WEIGHT = 0.8\n",
    "def find_regex_match(hint_text, length, wn_list):\n",
    "    if \"...\" not in hint_text:\n",
    "        return []\n",
    "    matching_group = f\"(.{{{length}}})\"\n",
    "    pattern =\"^\"+ hint_text.replace(\"...\", matching_group)+ \"$\"\n",
    "    matches = []\n",
    "    for w in wn_list:\n",
    "        match = re.search(pattern, w)\n",
    "        if match is not None:\n",
    "            matches.append(match.group(1))\n",
    "    if len(matches) > 0:\n",
    "        return convert_results_to_candidates(matches, tag = WORDNET_VOCAB, weight = WORDNET_VOCAB_WEIGHT)\n",
    "    return []"
   ]
  },
  {
   "cell_type": "code",
   "execution_count": null,
   "metadata": {},
   "outputs": [],
   "source": [
    "hint.hint = 'kilo...'\n",
    "hint.length = 5\n",
    "find_regex_match(hint.hint, hint.length, wn_voc['word'])"
   ]
  },
  {
   "cell_type": "code",
   "execution_count": null,
   "metadata": {},
   "outputs": [],
   "source": []
  }
 ],
 "metadata": {
  "kernelspec": {
   "display_name": "ristsona",
   "language": "python",
   "name": "python3"
  },
  "language_info": {
   "codemirror_mode": {
    "name": "ipython",
    "version": 3
   },
   "file_extension": ".py",
   "mimetype": "text/x-python",
   "name": "python",
   "nbconvert_exporter": "python",
   "pygments_lexer": "ipython3",
   "version": "3.10.13"
  }
 },
 "nbformat": 4,
 "nbformat_minor": 2
}
