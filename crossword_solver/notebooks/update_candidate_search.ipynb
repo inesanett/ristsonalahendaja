{
 "cells": [
  {
   "cell_type": "code",
   "execution_count": null,
   "metadata": {},
   "outputs": [],
   "source": [
    "from crossword_solver.candidate_search import *\n",
    "from crossword_solver.crossword_utils import Crossword, load_crossword, Hint, Direction\n",
    "from crossword_solver.solver_utils import solving_algorithm, display_results\n",
    "import pandas as pd\n",
    "from gensim.models import KeyedVectors"
   ]
  },
  {
   "cell_type": "code",
   "execution_count": null,
   "metadata": {},
   "outputs": [],
   "source": [
    "from estnltk.taggers import SpellCheckRetagger\n",
    "from estnltk import Text\n"
   ]
  },
  {
   "cell_type": "code",
   "execution_count": null,
   "metadata": {},
   "outputs": [],
   "source": [
    "%timeit SpellCheckRetagger()"
   ]
  },
  {
   "cell_type": "code",
   "execution_count": null,
   "metadata": {},
   "outputs": [],
   "source": [
    "\n",
    "%%timeit\n",
    "text = Text('Ma tahax minna järve äärde ja püda hauge, katikaid ja karpe.').tag_layer(['words'])\n",
    "spelling_tagger=SpellCheckRetagger()\n",
    "spelling_tagger.retag(text)\n",
    "orig_list = [w.text for w in text.words]\n",
    "normalised = [w[0] for w in text.normalized_form]\n",
    "clean_list = [normalised[i] if normalised[i] is not None else orig_list[i] for i in range(len(orig_list))]\n",
    "clean = \" \".join(clean_list)"
   ]
  },
  {
   "cell_type": "code",
   "execution_count": null,
   "metadata": {},
   "outputs": [],
   "source": [
    "list(text.words)[0].normalized_form[0]"
   ]
  },
  {
   "cell_type": "code",
   "execution_count": null,
   "metadata": {},
   "outputs": [],
   "source": [
    "%%timeit\n",
    "text = Text('Ma tahax minna järve äärde ja püda hauge, katikaid ja karpe.').tag_layer(['words'])\n",
    "spelling_tagger=SpellCheckRetagger()\n",
    "spelling_tagger.retag(text)\n",
    "clean_list = [span.normalized_form[0] if span.normalized_form[0] else span.text for span in text.words]\n",
    "clean = \" \".join(clean_list)\n",
    "clean"
   ]
  },
  {
   "cell_type": "code",
   "execution_count": null,
   "metadata": {},
   "outputs": [],
   "source": [
    "# Load word2vec\n",
    "#word2vec_model = KeyedVectors.load_word2vec_format('../data/lemmas.cbow.s100.w2v.bin', binary=True)"
   ]
  },
  {
   "cell_type": "code",
   "execution_count": null,
   "metadata": {},
   "outputs": [],
   "source": [
    "# Read in WordNet contents\n",
    "wn_voc = pd.read_parquet('../data/wordnet_contents.parquet')"
   ]
  },
  {
   "cell_type": "code",
   "execution_count": null,
   "metadata": {},
   "outputs": [],
   "source": [
    "# Read in crossword\n",
    "cw = load_crossword('../data/crossword1.pickle')"
   ]
  },
  {
   "cell_type": "code",
   "execution_count": null,
   "metadata": {},
   "outputs": [],
   "source": [
    "def search_candidates(hint):\n",
    "    hint_variations = [hint.hint] # Later each hint should have a list inside already \n",
    "    length = hint.length\n",
    "    candidate_list = []\n",
    "    for text in hint_variations:\n",
    "        lemmatised_text = lemmatise_text(text)\n",
    "        candidate_list.extend(wikipedia_search(lemmatised_text))\n",
    "        candidate_list.extend(wordnet_search(lemmatised_text))\n",
    "        candidate_list.extend(create_abbreviated_candidate(text, length))\n",
    "        candidate_list.extend(create_word2vec_candidates(lemmatised_text))\n",
    "    clean_candidates(candidate_list)\n",
    "    candidate_list = remove_duplicates(candidate_list)\n",
    "    candidate_list = expand_candidates(candidate_list)\n",
    "    candidate_list = remove_duplicates(candidate_list)\n",
    "    sorted_candidates = sorted(candidate_list, key = lambda x: x.weight, reverse = True)\n",
    "    return sorted_candidates"
   ]
  },
  {
   "cell_type": "code",
   "execution_count": null,
   "metadata": {},
   "outputs": [],
   "source": [
    "hint = cw.hints[1]\n",
    "hint"
   ]
  },
  {
   "cell_type": "code",
   "execution_count": null,
   "metadata": {},
   "outputs": [],
   "source": [
    "search_candidates(hint)"
   ]
  },
  {
   "cell_type": "code",
   "execution_count": null,
   "metadata": {},
   "outputs": [],
   "source": [
    "WORDNET_VOCAB = 'wordnet vocab'\n",
    "WORDNET_VOCAB_WEIGHT = 0.8\n",
    "def find_regex_match(hint_text, length, wn_list):\n",
    "    if \"...\" not in hint_text:\n",
    "        return []\n",
    "    matching_group = f\"(.{{{length}}})\"\n",
    "    pattern =\"^\"+ hint_text.replace(\"...\", matching_group)+ \"$\"\n",
    "    matches = []\n",
    "    for w in wn_list:\n",
    "        match = re.search(pattern, w)\n",
    "        if match is not None:\n",
    "            matches.append(match.group(1))\n",
    "    if len(matches) > 0:\n",
    "        return convert_results_to_candidates(matches, tag = WORDNET_VOCAB, weight = WORDNET_VOCAB_WEIGHT)\n",
    "    return []"
   ]
  },
  {
   "cell_type": "code",
   "execution_count": null,
   "metadata": {},
   "outputs": [],
   "source": [
    "hint.hint = 'kilo...'\n",
    "hint.length = 5\n",
    "find_regex_match(hint.hint, hint.length, wn_voc['word'])"
   ]
  },
  {
   "cell_type": "code",
   "execution_count": null,
   "metadata": {},
   "outputs": [],
   "source": []
  }
 ],
 "metadata": {
  "kernelspec": {
   "display_name": "ristsona",
   "language": "python",
   "name": "python3"
  },
  "language_info": {
   "codemirror_mode": {
    "name": "ipython",
    "version": 3
   },
   "file_extension": ".py",
   "mimetype": "text/x-python",
   "name": "python",
   "nbconvert_exporter": "python",
   "pygments_lexer": "ipython3",
   "version": "3.10.13"
  }
 },
 "nbformat": 4,
 "nbformat_minor": 2
}
