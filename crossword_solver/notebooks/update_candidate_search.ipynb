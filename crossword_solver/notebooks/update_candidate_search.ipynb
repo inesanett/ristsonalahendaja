{
 "cells": [
  {
   "cell_type": "code",
   "execution_count": 1,
   "metadata": {},
   "outputs": [
    {
     "name": "stdout",
     "output_type": "stream",
     "text": [
      "Resource 'estwordnet_2023-07-20' has already been downloaded.\n",
      "INFO:keyedvectors.py:2047: loading projection weights from ../data/lemmas.cbow.s100.w2v.bin\n",
      "INFO:utils.py:448: KeyedVectors lifecycle event {'msg': 'loaded (441391, 100) matrix of type float32 from ../data/lemmas.cbow.s100.w2v.bin', 'binary': True, 'encoding': 'utf8', 'datetime': '2024-04-26T00:46:18.724872', 'gensim': '4.3.2', 'python': '3.10.13 | packaged by Anaconda, Inc. | (main, Sep 11 2023, 13:24:38) [MSC v.1916 64 bit (AMD64)]', 'platform': 'Windows-10-10.0.19045-SP0', 'event': 'load_word2vec_format'}\n"
     ]
    }
   ],
   "source": [
    "from crossword_solver.candidate_search_helpers import Candidate, create_abbreviated_candidates, convert_results_to_candidates, lemmatise_text, WORD2VEC_TAG, WORD2VEC_WEIGHT, create_word2vec_candidates\n",
    "from crossword_solver.crossword_helpers import Crossword, load_crossword, Hint, Direction\n",
    "from crossword_solver.solver_helpers import solving_algorithm, display_results\n",
    "import pandas as pd\n",
    "from gensim.models import KeyedVectors"
   ]
  },
  {
   "cell_type": "code",
   "execution_count": 2,
   "metadata": {},
   "outputs": [],
   "source": [
    "# Load word2vec\n",
    "#word2vec_model = KeyedVectors.load_word2vec_format('../data/lemmas.cbow.s100.w2v.bin', binary=True)"
   ]
  },
  {
   "cell_type": "code",
   "execution_count": 3,
   "metadata": {},
   "outputs": [],
   "source": [
    "# Read in WordNet contents\n",
    "wn_voc = pd.read_parquet('../data/wordnet_contents.parquet')"
   ]
  },
  {
   "cell_type": "code",
   "execution_count": 4,
   "metadata": {},
   "outputs": [],
   "source": [
    "# Read in crossword\n",
    "cw = load_crossword('../data/crossword1.pickle')"
   ]
  },
  {
   "cell_type": "code",
   "execution_count": 5,
   "metadata": {},
   "outputs": [
    {
     "name": "stdout",
     "output_type": "stream",
     "text": [
      "kahe küüruga loom\n"
     ]
    }
   ],
   "source": [
    "hint = cw.hints[0]\n",
    "print(hint)"
   ]
  },
  {
   "cell_type": "code",
   "execution_count": 6,
   "metadata": {},
   "outputs": [
    {
     "data": {
      "text/plain": [
       "[Candidate(text='emane', source='word2vec', weight=0.7),\n",
       " Candidate(text='eesel', source='word2vec', weight=0.7),\n",
       " Candidate(text='kärnkonn', source='word2vec', weight=0.7),\n",
       " Candidate(text='madu', source='word2vec', weight=0.7),\n",
       " Candidate(text='isane', source='word2vec', weight=0.7),\n",
       " Candidate(text='koer', source='word2vec', weight=0.7),\n",
       " Candidate(text='sisalik', source='word2vec', weight=0.7),\n",
       " Candidate(text='rästik', source='word2vec', weight=0.7),\n",
       " Candidate(text='kirp', source='word2vec', weight=0.7),\n",
       " Candidate(text='kaamel', source='word2vec', weight=0.7),\n",
       " Candidate(text='metsloom', source='word2vec', weight=0.7),\n",
       " Candidate(text='kiskja', source='word2vec', weight=0.7),\n",
       " Candidate(text='madu|magu', source='word2vec', weight=0.7),\n",
       " Candidate(text='isakaru', source='word2vec', weight=0.7),\n",
       " Candidate(text='põdralehm', source='word2vec', weight=0.7),\n",
       " Candidate(text='hundikoer', source='word2vec', weight=0.7),\n",
       " Candidate(text='röövlind', source='word2vec', weight=0.7),\n",
       " Candidate(text='hobune', source='word2vec', weight=0.7),\n",
       " Candidate(text='rott', source='word2vec', weight=0.7),\n",
       " Candidate(text='tagakeha', source='word2vec', weight=0.7)]"
      ]
     },
     "execution_count": 6,
     "metadata": {},
     "output_type": "execute_result"
    }
   ],
   "source": [
    "create_abbreviated_candidates(hint)\n",
    "create_word2vec_candidates(hint)"
   ]
  },
  {
   "cell_type": "code",
   "execution_count": null,
   "metadata": {},
   "outputs": [],
   "source": []
  }
 ],
 "metadata": {
  "kernelspec": {
   "display_name": "ristsona",
   "language": "python",
   "name": "python3"
  },
  "language_info": {
   "codemirror_mode": {
    "name": "ipython",
    "version": 3
   },
   "file_extension": ".py",
   "mimetype": "text/x-python",
   "name": "python",
   "nbconvert_exporter": "python",
   "pygments_lexer": "ipython3",
   "version": "3.10.13"
  }
 },
 "nbformat": 4,
 "nbformat_minor": 2
}
