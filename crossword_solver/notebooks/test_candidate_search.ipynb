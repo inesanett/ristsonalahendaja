{
 "cells": [
  {
   "cell_type": "code",
   "execution_count": null,
   "id": "e9bb096b",
   "metadata": {
    "scrolled": false
   },
   "outputs": [],
   "source": [
    "from crossword_solver.candidate_search_helpers import Candidate, search_candidates\n",
    "from crossword_solver.crossword_helpers import Crossword, load_crossword\n",
    "from crossword_solver.solver_helpers import solving_algorithm, display_results\n",
    "import pandas as pd"
   ]
  },
  {
   "cell_type": "code",
   "execution_count": null,
   "id": "20241977",
   "metadata": {},
   "outputs": [],
   "source": [
    "# Read in WordNet contents\n",
    "wn_voc = pd.read_parquet('../data/wordnet_contents.parquet')"
   ]
  },
  {
   "cell_type": "code",
   "execution_count": null,
   "id": "fcb1aeac",
   "metadata": {},
   "outputs": [],
   "source": [
    "# Read in crossword\n",
    "cw = load_crossword('../data/crossword1.pickle')"
   ]
  },
  {
   "cell_type": "code",
   "execution_count": null,
   "id": "97fcfc91",
   "metadata": {
    "scrolled": true
   },
   "outputs": [],
   "source": [
    "# Search for candidates\n",
    "for i in range(len(cw.hints)):\n",
    "    cw.hints[i].candidates = search_candidates(cw.hints[i])"
   ]
  },
  {
   "cell_type": "code",
   "execution_count": null,
   "metadata": {},
   "outputs": [],
   "source": [
    "# Filter candidates with the right length\n",
    "for i in range(len(cw.hints)):\n",
    "    filtered = []\n",
    "    for c in cw.hints[i].candidates:\n",
    "        if len(c.text) == cw.hints[i].length:\n",
    "            filtered.append(c)\n",
    "    cw.hints[i].candidates = filtered"
   ]
  },
  {
   "cell_type": "code",
   "execution_count": null,
   "id": "019ab876",
   "metadata": {},
   "outputs": [],
   "source": [
    "\"\"\"\n",
    "cw.hints[0].candidates.append(Candidate(\"kaamel\", \"mina\", 1))\n",
    "cw.hints[1].candidates.append(Candidate(\"sebra\", \"mina\", 1))\n",
    "cw.hints[2].candidates.append(Candidate(\"ninasarvik\", \"mina\", 1))\n",
    "cw.hints[3].candidates.append(Candidate(\"gepard\", \"mina\", 1))\n",
    "\"\"\""
   ]
  },
  {
   "cell_type": "code",
   "execution_count": null,
   "metadata": {},
   "outputs": [],
   "source": [
    "from copy import deepcopy\n",
    "from crossword_solver.solver_helpers import find_suitable_candidates\n",
    "\n",
    "def solving_algorithm(crossword):\n",
    "    \n",
    "    if len(crossword.hints)==0:\n",
    "        return [crossword]\n",
    "    \n",
    "    hint = crossword.hints[0]\n",
    "    suitable_candidates = find_suitable_candidates(hint, crossword)\n",
    "    if(len(crossword.hints) > 2):\n",
    "        print(len(crossword.hints), len(suitable_candidates))\n",
    "        print(crossword)\n",
    "    results = []\n",
    "    new_crossword = deepcopy(crossword)\n",
    "    new_crossword.hints.pop(0)\n",
    "    result = solving_algorithm(new_crossword)\n",
    "    results.extend(result)\n",
    "    for candidate in suitable_candidates:\n",
    "        new_crossword = deepcopy(crossword)\n",
    "        for i, (x, y) in enumerate(hint.coordinates):\n",
    "            new_crossword.matrix[x, y] = candidate.text[i]\n",
    "        new_crossword.hints.pop(0)\n",
    "        new_crossword.score += candidate.weight\n",
    "        result = solving_algorithm(new_crossword)\n",
    "        results.extend(result)\n",
    "    return results"
   ]
  },
  {
   "cell_type": "code",
   "execution_count": null,
   "metadata": {},
   "outputs": [],
   "source": [
    "def display_results(solving_algorithm_results, topn = 20):\n",
    "    sorted_results = sorted(solving_algorithm_results, key = lambda x:x.score)[::-1]\n",
    "    for solution in sorted_results[:topn]:\n",
    "        print(solution.score)\n",
    "        print(solution)\n",
    "    return"
   ]
  },
  {
   "cell_type": "code",
   "execution_count": null,
   "id": "bdbb8b4c",
   "metadata": {},
   "outputs": [],
   "source": [
    "results = solving_algorithm(cw)\n",
    "display_results(results)"
   ]
  },
  {
   "cell_type": "code",
   "execution_count": null,
   "metadata": {},
   "outputs": [],
   "source": []
  }
 ],
 "metadata": {
  "kernelspec": {
   "display_name": "ristsona",
   "language": "python",
   "name": "python3"
  },
  "language_info": {
   "codemirror_mode": {
    "name": "ipython",
    "version": 3
   },
   "file_extension": ".py",
   "mimetype": "text/x-python",
   "name": "python",
   "nbconvert_exporter": "python",
   "pygments_lexer": "ipython3",
   "version": "3.10.13"
  }
 },
 "nbformat": 4,
 "nbformat_minor": 5
}
