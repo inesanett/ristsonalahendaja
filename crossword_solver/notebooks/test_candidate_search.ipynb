{
 "cells": [
  {
   "cell_type": "code",
   "execution_count": null,
   "id": "e9bb096b",
   "metadata": {
    "scrolled": false
   },
   "outputs": [],
   "source": [
    "from crossword_solver.crossword_detection import detect_crossword_from_file\n",
    "from crossword_solver.solver_helpers import find_whole_crossword_candidates, reorder_crossword_hints, solving_algorithm\n",
    "from crossword_solver.candidate_search_helpers import lemmatise_text\n",
    "\n",
    "from copy import deepcopy\n",
    "import re\n"
   ]
  },
  {
   "cell_type": "code",
   "execution_count": null,
   "metadata": {},
   "outputs": [],
   "source": [
    "path = '../data/pictures/ristsona_1.png'\n",
    "crossword = detect_crossword_from_file(path)"
   ]
  },
  {
   "cell_type": "code",
   "execution_count": null,
   "metadata": {},
   "outputs": [],
   "source": [
    "find_whole_crossword_candidates(crossword)\n",
    "print(len(crossword.hints))"
   ]
  },
  {
   "cell_type": "code",
   "execution_count": null,
   "metadata": {},
   "outputs": [],
   "source": [
    "reorder_crossword_hints(crossword)\n",
    "print(len(crossword.candidates))"
   ]
  },
  {
   "cell_type": "code",
   "execution_count": null,
   "metadata": {},
   "outputs": [],
   "source": [
    "crossword"
   ]
  },
  {
   "cell_type": "code",
   "execution_count": null,
   "metadata": {},
   "outputs": [],
   "source": [
    "for hint in crossword.hints:\n",
    "    print(hint.hint, hint.length, len(hint.candidates))"
   ]
  },
  {
   "cell_type": "code",
   "execution_count": null,
   "metadata": {},
   "outputs": [],
   "source": [
    "import numpy as np\n",
    "from crossword_solver.solver_helpers import find_suitable_candidates\n",
    "def solving_algorithm(crossword, max_empty_words = 5):\n",
    "    global timings\n",
    "    if len(crossword.hints)==0:\n",
    "        yield np.copy(crossword.matrix), crossword.score\n",
    "        return\n",
    "  \n",
    "    start = time.time()\n",
    "    hint = crossword.hints.pop(0)\n",
    "    suitable_candidates = find_suitable_candidates(hint, crossword)\n",
    "    timings[\"find_suitable_candidates\"] += time.time()-start\n",
    "    if len(suitable_candidates)==0 and max_empty_words==0:\n",
    "        yield np.copy(crossword.matrix), crossword.score\n",
    "    if max_empty_words>0:\n",
    "        yield from solving_algorithm(crossword, max_empty_words-1)\n",
    "    for candidate in suitable_candidates:\n",
    "        start = time.time()\n",
    "        prev_text = np.copy(crossword.matrix[hint.x_min:hint.x_max+1, hint.y_min:hint.y_max+1])\n",
    "        crossword.matrix[hint.x_min:hint.x_max+1, hint.y_min:hint.y_max+1] = np.array(list(candidate.text)\n",
    "                                                                                          ).reshape(prev_text.shape)\n",
    "        crossword.score += candidate.weight\n",
    "        timings[\"crossword_manip\"] += time.time()-start\n",
    "        yield from solving_algorithm(crossword, max_empty_words)\n",
    "        start = time.time()\n",
    "        crossword.score -= candidate.weight\n",
    "        crossword.matrix[hint.x_min:hint.x_max+1, hint.y_min:hint.y_max+1] = prev_text\n",
    "        timings[\"crossword_manip\"] += time.time()-start\n",
    "    crossword.hints.insert(0, hint)"
   ]
  },
  {
   "cell_type": "code",
   "execution_count": null,
   "metadata": {},
   "outputs": [],
   "source": [
    "from collections import defaultdict\n",
    "import time\n",
    "timings = defaultdict(float)\n",
    "min_score = 5\n",
    "results = list()\n",
    "for matrix, score in solving_algorithm(crossword, max_empty_words=0):\n",
    "    if score > min_score:\n",
    "        results.append((matrix, score))\n",
    "\n",
    "print(len(results))\n",
    "timings"
   ]
  },
  {
   "cell_type": "code",
   "execution_count": null,
   "metadata": {},
   "outputs": [],
   "source": [
    "printing_crossword = deepcopy(crossword)\n",
    "for matrix, score in sorted(results, key=lambda x: x[1], reverse = True)[:5]:\n",
    "    printing_crossword.matrix = matrix\n",
    "    print(printing_crossword, score)"
   ]
  }
 ],
 "metadata": {
  "kernelspec": {
   "display_name": "ristsona",
   "language": "python",
   "name": "python3"
  },
  "language_info": {
   "codemirror_mode": {
    "name": "ipython",
    "version": 3
   },
   "file_extension": ".py",
   "mimetype": "text/x-python",
   "name": "python",
   "nbconvert_exporter": "python",
   "pygments_lexer": "ipython3",
   "version": "3.10.13"
  }
 },
 "nbformat": 4,
 "nbformat_minor": 5
}
