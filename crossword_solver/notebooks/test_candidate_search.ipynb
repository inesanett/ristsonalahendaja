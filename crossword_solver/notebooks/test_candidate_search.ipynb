{
 "cells": [
  {
   "cell_type": "code",
   "execution_count": null,
   "id": "e9bb096b",
   "metadata": {
    "scrolled": false
   },
   "outputs": [],
   "source": [
    "from crossword_solver.crossword_detection import detect_crossword_from_file\n",
    "from copy import deepcopy\n",
    "from crossword_solver.solver_helpers import find_suitable_candidates, find_whole_crossword_candidates, reorder_crossword_hints\n",
    "import time\n",
    "from collections import defaultdict\n",
    "import numpy as np"
   ]
  },
  {
   "cell_type": "code",
   "execution_count": null,
   "metadata": {},
   "outputs": [],
   "source": [
    "path = '../data/pictures/ristsona_1.png'\n",
    "crossword = detect_crossword_from_file(path)"
   ]
  },
  {
   "cell_type": "code",
   "execution_count": null,
   "metadata": {},
   "outputs": [],
   "source": [
    "find_whole_crossword_candidates(crossword)\n",
    "reorder_crossword_hints(crossword)"
   ]
  },
  {
   "cell_type": "code",
   "execution_count": null,
   "metadata": {},
   "outputs": [],
   "source": [
    "def solving_algorithm(crossword, max_empty_words = 2):\n",
    "    if len(crossword.hints)==0:\n",
    "        yield np.copy(crossword.matrix), crossword.score\n",
    "  \n",
    "    hint = crossword.hints.pop(0)\n",
    "    suitable_candidates = find_suitable_candidates(hint, crossword)\n",
    "\n",
    "    if len(suitable_candidates)==0 and max_empty_words==0:\n",
    "        yield np.copy(crossword.matrix), crossword.score\n",
    "    if max_empty_words>0:\n",
    "        yield from solving_algorithm(crossword, max_empty_words-1)\n",
    "    for candidate in suitable_candidates:\n",
    "        prev_text = np.copy(crossword.matrix[hint.x_min:hint.x_max+1, hint.y_min:hint.y_max+1])\n",
    "        crossword.matrix[hint.x_min:hint.x_max+1, hint.y_min:hint.y_max+1] = np.array(list(candidate.text)\n",
    "                                                                                          ).reshape(hint.x_max+1-hint.x_min, -1)\n",
    "        crossword.score += candidate.weight\n",
    "        yield from solving_algorithm(crossword, max_empty_words)\n",
    "        crossword.score -= candidate.weight\n",
    "        crossword.matrix[hint.x_min:hint.x_max+1, hint.y_min:hint.y_max+1] = prev_text\n",
    "    crossword.hints.insert(0, hint)"
   ]
  },
  {
   "cell_type": "code",
   "execution_count": null,
   "metadata": {},
   "outputs": [],
   "source": [
    "results = list(solving_algorithm(crossword, max_empty_words=5))\n",
    "print(len(results))"
   ]
  },
  {
   "cell_type": "code",
   "execution_count": null,
   "metadata": {},
   "outputs": [],
   "source": [
    "printing_crossword = deepcopy(crossword)\n",
    "for matrix, score in sorted(results, key=lambda x: x[1], reverse = True)[:5]:\n",
    "    printing_crossword.matrix = matrix\n",
    "    print(printing_crossword, score)"
   ]
  }
 ],
 "metadata": {
  "kernelspec": {
   "display_name": "ristsona",
   "language": "python",
   "name": "python3"
  },
  "language_info": {
   "codemirror_mode": {
    "name": "ipython",
    "version": 3
   },
   "file_extension": ".py",
   "mimetype": "text/x-python",
   "name": "python",
   "nbconvert_exporter": "python",
   "pygments_lexer": "ipython3",
   "version": "3.10.13"
  }
 },
 "nbformat": 4,
 "nbformat_minor": 5
}
