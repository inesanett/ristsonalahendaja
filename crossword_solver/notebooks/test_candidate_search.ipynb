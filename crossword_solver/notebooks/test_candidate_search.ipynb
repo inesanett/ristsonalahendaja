{
 "cells": [
  {
   "cell_type": "code",
   "execution_count": 1,
   "id": "e9bb096b",
   "metadata": {
    "scrolled": false
   },
   "outputs": [
    {
     "name": "stdout",
     "output_type": "stream",
     "text": [
      "Resource 'estwordnet_2023-07-20' has already been downloaded.\n",
      "INFO:keyedvectors.py:2047: loading projection weights from ../data/lemmas.cbow.s100.w2v.bin\n",
      "INFO:utils.py:448: KeyedVectors lifecycle event {'msg': 'loaded (441391, 100) matrix of type float32 from ../data/lemmas.cbow.s100.w2v.bin', 'binary': True, 'encoding': 'utf8', 'datetime': '2024-05-07T23:49:58.596982', 'gensim': '4.3.2', 'python': '3.10.13 | packaged by Anaconda, Inc. | (main, Sep 11 2023, 13:24:38) [MSC v.1916 64 bit (AMD64)]', 'platform': 'Windows-10-10.0.19045-SP0', 'event': 'load_word2vec_format'}\n"
     ]
    }
   ],
   "source": [
    "from crossword_solver.crossword_detection import detect_crossword_from_file\n",
    "from crossword_solver.solver_helpers import find_whole_crossword_candidates, reorder_crossword_hints, solving_algorithm\n",
    "from crossword_solver.solver_helpers import find_suitable_candidates\n",
    "from copy import deepcopy\n",
    "from collections import defaultdict\n",
    "import numpy as np\n"
   ]
  },
  {
   "cell_type": "code",
   "execution_count": 2,
   "metadata": {},
   "outputs": [],
   "source": [
    "path = '../data/pictures/ristsona_2.png'\n",
    "crossword = detect_crossword_from_file(path)\n"
   ]
  },
  {
   "cell_type": "code",
   "execution_count": 3,
   "metadata": {},
   "outputs": [],
   "source": [
    "find_whole_crossword_candidates(crossword)"
   ]
  },
  {
   "cell_type": "code",
   "execution_count": 5,
   "metadata": {},
   "outputs": [],
   "source": [
    "def solve_crossword(crossword, max_empty_words = 8, min_score = 10, min_intersections = 10):\n",
    "    results = []\n",
    "    solving_cw = deepcopy(crossword)\n",
    "    new_hints = []\n",
    "    for hint in solving_cw.hints:\n",
    "        if len(hint.candidates)>0:\n",
    "            new_hints.append(hint)\n",
    "    solving_cw.hints = new_hints\n",
    "    reorder_crossword_hints(solving_cw)\n",
    "    for matrix, score, intersections in solving_algorithm(solving_cw, max_empty_words=max_empty_words):\n",
    "        if score > min_score and intersections>min_intersections:\n",
    "            results.append((matrix, score, intersections))\n",
    "    return results\n",
    "\n",
    "\n"
   ]
  },
  {
   "cell_type": "code",
   "execution_count": 6,
   "metadata": {},
   "outputs": [],
   "source": [
    "results = solve_crossword(crossword)\n"
   ]
  },
  {
   "cell_type": "code",
   "execution_count": 7,
   "metadata": {},
   "outputs": [
    {
     "name": "stdout",
     "output_type": "stream",
     "text": [
      "■ ■ ■ ■ ■ ■ 1 1 1 1 1\n",
      "■ ■ ■ ■ ■ 1 o p a a l\n",
      "■ ■ ■ ■ ■ 1 s r ü 2 _\n",
      "■ ■ ■ ■ ■ 1 l i 2 v k\n",
      "■ ■ ■ ■ ■ 1 _ s k a _\n",
      "■ 1 1 1 1 1 2 m e s i\n",
      "2 _ _ n t _ a a v a _\n",
      "_ _ _ a a _ n 2 a r e\n",
      "1 _ _ a i _ d _ d 2 e\n",
      "1 f 2 b m _ 2 l e e r\n",
      "1 l o e 2 _ _ _ 2 n i\n",
      "1 e i r a m a 2 u _ _\n",
      "1 j a 2 _ _ _ l u _ _\n",
      "1 _ _ l _ _ _ n s ■ ■\n",
      " 19.0 15\n",
      "■ ■ ■ ■ ■ ■ 1 1 1 1 1\n",
      "■ ■ ■ ■ ■ 1 o p a a l\n",
      "■ ■ ■ ■ ■ 1 s r ü 2 _\n",
      "■ ■ ■ ■ ■ 1 l i 2 v k\n",
      "■ ■ ■ ■ ■ 1 _ s k a _\n",
      "■ 1 1 1 1 1 2 m e s i\n",
      "2 _ _ n t _ a a v a _\n",
      "_ _ _ a a _ n 2 a r e\n",
      "1 _ _ a i _ d _ d 2 e\n",
      "1 c 2 b m _ 2 l e e r\n",
      "1 l o e 2 _ _ _ 2 n i\n",
      "1 e i r a m a 2 u _ _\n",
      "1 j a 2 _ _ _ l u _ _\n",
      "1 _ _ l _ _ _ n s ■ ■\n",
      " 18.7 15\n",
      "■ ■ ■ ■ ■ ■ 1 1 1 1 1\n",
      "■ ■ ■ ■ ■ 1 o p a a l\n",
      "■ ■ ■ ■ ■ 1 s r ü 2 _\n",
      "■ ■ ■ ■ ■ 1 l i 2 v k\n",
      "■ ■ ■ ■ ■ 1 _ s k a _\n",
      "■ 1 1 1 1 1 2 m e s i\n",
      "2 _ _ n t _ a a v a _\n",
      "_ _ _ a a _ n 2 a r e\n",
      "1 _ _ a i _ d _ d 2 e\n",
      "1 b 2 b m _ 2 l e e r\n",
      "1 l o e 2 _ _ _ 2 n i\n",
      "1 e i r a m a 2 u _ _\n",
      "1 j a 2 _ _ _ l u _ _\n",
      "1 _ _ l _ _ _ n s ■ ■\n",
      " 18.7 15\n",
      "■ ■ ■ ■ ■ ■ 1 1 1 1 1\n",
      "■ ■ ■ ■ ■ 1 o p a a l\n",
      "■ ■ ■ ■ ■ 1 s r ü 2 _\n",
      "■ ■ ■ ■ ■ 1 l i 2 v k\n",
      "■ ■ ■ ■ ■ 1 _ s k a _\n",
      "■ 1 1 1 1 1 2 m e s i\n",
      "2 _ _ n t _ j a v a _\n",
      "_ _ _ a a _ a 2 a r e\n",
      "1 _ _ a i _ s _ d 2 e\n",
      "1 f 2 b m _ 2 l e e r\n",
      "1 l o e 2 _ _ _ 2 n i\n",
      "1 e i r a m a 2 u _ _\n",
      "1 j a 2 _ _ _ l u _ _\n",
      "1 _ _ l _ _ _ n s ■ ■\n",
      " 19.0 15\n",
      "■ ■ ■ ■ ■ ■ 1 1 1 1 1\n",
      "■ ■ ■ ■ ■ 1 o p a a l\n",
      "■ ■ ■ ■ ■ 1 s r ü 2 _\n",
      "■ ■ ■ ■ ■ 1 l i 2 v k\n",
      "■ ■ ■ ■ ■ 1 _ s k a _\n",
      "■ 1 1 1 1 1 2 m e s i\n",
      "2 _ _ n t _ j a v a _\n",
      "_ _ _ a a _ a 2 a r e\n",
      "1 _ _ a i _ s _ d 2 e\n",
      "1 c 2 b m _ 2 l e e r\n",
      "1 l o e 2 _ _ _ 2 n i\n",
      "1 e i r a m a 2 u _ _\n",
      "1 j a 2 _ _ _ l u _ _\n",
      "1 _ _ l _ _ _ n s ■ ■\n",
      " 18.7 15\n"
     ]
    }
   ],
   "source": [
    "printing_crossword = deepcopy(crossword)\n",
    "for matrix, score, intersections in sorted(results, key=lambda x: x[2], reverse = True)[:5]:\n",
    "    printing_crossword.matrix = matrix\n",
    "    print(printing_crossword, round(score, 1), intersections)"
   ]
  },
  {
   "cell_type": "code",
   "execution_count": null,
   "metadata": {},
   "outputs": [],
   "source": [
    "min_score = 5\n",
    "results = list()\n",
    "for matrix, score in solving_algorithm(crossword, max_empty_words=0):\n",
    "    if score > min_score:\n",
    "        results.append((matrix, score))"
   ]
  },
  {
   "cell_type": "code",
   "execution_count": null,
   "metadata": {},
   "outputs": [],
   "source": []
  },
  {
   "cell_type": "code",
   "execution_count": null,
   "metadata": {},
   "outputs": [],
   "source": []
  },
  {
   "cell_type": "code",
   "execution_count": null,
   "metadata": {},
   "outputs": [],
   "source": []
  },
  {
   "cell_type": "code",
   "execution_count": null,
   "metadata": {},
   "outputs": [],
   "source": []
  },
  {
   "cell_type": "code",
   "execution_count": null,
   "metadata": {},
   "outputs": [],
   "source": [
    "a = 1\n",
    "for hint in crossword.hints:\n",
    "    a*=(len(hint.candidates)+1)\n",
    "    print(hint.hint, hint.length, len(hint.candidates))\n",
    "a"
   ]
  },
  {
   "cell_type": "code",
   "execution_count": null,
   "metadata": {},
   "outputs": [],
   "source": [
    "\n",
    "def solving_algorithm(crossword, max_empty_words = 5):\n",
    "    if len(crossword.hints)==0:\n",
    "        yield np.copy(crossword.matrix), crossword.score, crossword.intersections\n",
    "        return\n",
    "    \n",
    "    hint = crossword.hints.pop(0)\n",
    "    suitable_candidates = find_suitable_candidates(hint, crossword)\n",
    "\n",
    "    if len(suitable_candidates)==0 and max_empty_words==0:\n",
    "        yield np.copy(crossword.matrix), crossword.score, crossword.intersections\n",
    "    if max_empty_words>0:\n",
    "        yield from solving_algorithm(crossword, max_empty_words-1)\n",
    "    \n",
    "    prev_text = np.copy(crossword.matrix[hint.x_min:hint.x_max+1, hint.y_min:hint.y_max+1])\n",
    "    intersection_count = np.count_nonzero(prev_text != crossword.unfilled_character)\n",
    "    crossword.intersections += intersection_count\n",
    "    for candidate in suitable_candidates:\n",
    "        crossword.matrix[hint.x_min:hint.x_max+1, hint.y_min:hint.y_max+1] = np.array(list(candidate.text)\n",
    "                                                                                          ).reshape(prev_text.shape)\n",
    "        crossword.score += candidate.weight\n",
    "        yield from solving_algorithm(crossword, max_empty_words)\n",
    "        crossword.score -= candidate.weight\n",
    "        crossword.matrix[hint.x_min:hint.x_max+1, hint.y_min:hint.y_max+1] = prev_text\n",
    "    crossword.intersections -= intersection_count\n",
    "    crossword.hints.insert(0, hint)"
   ]
  },
  {
   "cell_type": "code",
   "execution_count": null,
   "metadata": {},
   "outputs": [],
   "source": [
    "\n",
    "max_empty_words = 8\n",
    "min_score = 1\n",
    "min_intersections = 14\n",
    "results = []\n",
    "solving_cw = deepcopy(crossword)\n",
    "solving_cw.intersections = 0\n",
    "new_hints = []\n",
    "for hint in solving_cw.hints:\n",
    "    if len(hint.candidates)>0:\n",
    "        new_hints.append(hint)\n",
    "solving_cw.hints = new_hints\n",
    "reorder_crossword_hints(solving_cw)\n",
    "for matrix, score, intersections in solving_algorithm(solving_cw, max_empty_words=max_empty_words):\n",
    "    if score > min_score and intersections>min_intersections:\n",
    "        results.append((matrix, score, intersections))\n",
    "        \n",
    "print(len(results))\n",
    "#print(len(solving_cw.hints))"
   ]
  },
  {
   "cell_type": "code",
   "execution_count": null,
   "metadata": {},
   "outputs": [],
   "source": [
    "printing_crossword = deepcopy(crossword)\n",
    "for matrix, score, intersections in sorted(results, key=lambda x: x[2], reverse = True)[:5]:\n",
    "    printing_crossword.matrix = matrix\n",
    "    print(printing_crossword, round(score, 1), intersections)"
   ]
  },
  {
   "cell_type": "code",
   "execution_count": null,
   "metadata": {},
   "outputs": [],
   "source": []
  },
  {
   "cell_type": "code",
   "execution_count": null,
   "metadata": {},
   "outputs": [],
   "source": [
    "asd = np.full((3, 1), \"_\")\n",
    "asd[1, 0] = \"A\"\n",
    "display(asd)\n",
    "np.count_nonzero(asd != \"_\")\n"
   ]
  }
 ],
 "metadata": {
  "kernelspec": {
   "display_name": "ristsona",
   "language": "python",
   "name": "python3"
  },
  "language_info": {
   "codemirror_mode": {
    "name": "ipython",
    "version": 3
   },
   "file_extension": ".py",
   "mimetype": "text/x-python",
   "name": "python",
   "nbconvert_exporter": "python",
   "pygments_lexer": "ipython3",
   "version": "3.10.13"
  }
 },
 "nbformat": 4,
 "nbformat_minor": 5
}
