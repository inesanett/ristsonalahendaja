{
 "cells": [
  {
   "cell_type": "code",
   "execution_count": null,
   "metadata": {},
   "outputs": [],
   "source": [
    "from crossword_solver.crossword_detection_utils import get_grid_from_image, display_image, show_contour_on_image, crop_image_to_crossword_outline\n",
    "from crossword_solver.square_classification import classify_all_squares, SquareType\n",
    "from crossword_solver.text_detection import detect_text_for_all_squares\n",
    "from crossword_solver.solver_helpers import solving_algorithm, display_results, reorder_crossword_hints, find_whole_crossword_candidates, find_suitable_candidates\n",
    "from crossword_solver.crossword_detection import detect_crossword_from_file\n",
    "import numpy as np\n",
    "import cv2\n",
    "import matplotlib.pyplot as plt\n",
    "from copy import deepcopy\n",
    "import pandas as pd\n",
    "from collections import defaultdict\n",
    "import os\n",
    "import math\n",
    "import re\n",
    "import Levenshtein\n",
    "import itertools\n",
    "from tqdm.notebook import trange, tqdm\n",
    "import time\n",
    "import pytesseract"
   ]
  },
  {
   "cell_type": "code",
   "execution_count": null,
   "metadata": {},
   "outputs": [],
   "source": [
    "path = '../data/pictures/ristsona_1.png'"
   ]
  },
  {
   "cell_type": "code",
   "execution_count": null,
   "metadata": {},
   "outputs": [],
   "source": [
    "crossword = detect_crossword_from_file(path)"
   ]
  },
  {
   "cell_type": "code",
   "execution_count": null,
   "metadata": {},
   "outputs": [],
   "source": [
    "crossword"
   ]
  },
  {
   "cell_type": "code",
   "execution_count": null,
   "metadata": {},
   "outputs": [],
   "source": [
    "crossword.hints"
   ]
  },
  {
   "cell_type": "code",
   "execution_count": null,
   "metadata": {},
   "outputs": [],
   "source": [
    "reorder_crossword_hints(crossword)"
   ]
  },
  {
   "cell_type": "code",
   "execution_count": null,
   "metadata": {},
   "outputs": [],
   "source": [
    "crossword.hints"
   ]
  },
  {
   "cell_type": "code",
   "execution_count": null,
   "metadata": {},
   "outputs": [],
   "source": [
    "def solving_algorithm(crossword, max_empty_words = 2):\n",
    "    global timings\n",
    "    if len(crossword.hints)==0:\n",
    "        yield crossword\n",
    "    \n",
    "    hint = crossword.hints[0]\n",
    "    start = time.time()\n",
    "    suitable_candidates = find_suitable_candidates(hint, crossword)\n",
    "    timings[\"find suitable candidates\"] += time.time()-start\n",
    "\n",
    "    if len(suitable_candidates)==0 and max_empty_words==0:\n",
    "        yield crossword\n",
    "    \n",
    "    \n",
    "    if max_empty_words>0:\n",
    "        new_crossword = deepcopy(crossword)\n",
    "        new_crossword.hints.pop(0)\n",
    "        yield from solving_algorithm(new_crossword, max_empty_words-1)\n",
    "    for candidate in suitable_candidates:\n",
    "        start = time.time()\n",
    "        new_crossword = deepcopy(crossword)\n",
    "        for i, (x, y) in enumerate(hint.coordinates):\n",
    "            new_crossword.matrix[x, y] = candidate.text[i]\n",
    "        new_crossword.hints.pop(0)\n",
    "        new_crossword.score += candidate.weight\n",
    "        timings[\"creating new crossword\"] += time.time()-start\n",
    "        yield from solving_algorithm(new_crossword, max_empty_words)\n",
    "    "
   ]
  },
  {
   "cell_type": "code",
   "execution_count": null,
   "metadata": {},
   "outputs": [],
   "source": [
    "find_whole_crossword_candidates(crossword)"
   ]
  },
  {
   "cell_type": "code",
   "execution_count": null,
   "metadata": {},
   "outputs": [],
   "source": [
    "solutions = solving_algorithm(crossword)"
   ]
  },
  {
   "cell_type": "code",
   "execution_count": null,
   "metadata": {},
   "outputs": [],
   "source": [
    "c = crossword.hints[0].coordinates\n",
    "matrix = deepcopy(crossword.matrix)\n",
    "matrix[10:11, 1:13] = np.array(list(\"kalamarjadsa\"))\n",
    "matrix.T"
   ]
  },
  {
   "cell_type": "code",
   "execution_count": null,
   "metadata": {},
   "outputs": [],
   "source": [
    "timings = defaultdict(int)\n",
    "results = list(solving_algorithm(crossword, max_empty_words=3))\n",
    "print(len(results))\n",
    "print(timings)\n",
    "display_results(results, topn = 10)"
   ]
  },
  {
   "cell_type": "code",
   "execution_count": null,
   "metadata": {},
   "outputs": [],
   "source": [
    "results = solving_algorithm(crossword)\n",
    "display_results(results)"
   ]
  },
  {
   "cell_type": "code",
   "execution_count": null,
   "metadata": {},
   "outputs": [],
   "source": [
    "results"
   ]
  },
  {
   "cell_type": "code",
   "execution_count": null,
   "metadata": {},
   "outputs": [],
   "source": [
    "img = cv2.imread(path)\n",
    "grid = get_grid_from_image(img)\n",
    "crossword_img = crop_image_to_crossword_outline(img)"
   ]
  },
  {
   "cell_type": "code",
   "execution_count": null,
   "metadata": {},
   "outputs": [],
   "source": [
    "plotting_image = deepcopy(crossword_img)\n",
    "for gs in grid.flatten():\n",
    "    plotting_image = cv2.circle(plotting_image, (gs.x_min,gs.y_min), radius=5, color=(0, 255, 0), thickness=-1)\n",
    "# Display the result\n",
    "display_image(plotting_image)"
   ]
  },
  {
   "cell_type": "code",
   "execution_count": null,
   "metadata": {},
   "outputs": [],
   "source": [
    "# Get text for all grid_squares\n",
    "detect_text_for_all_squares(grid)"
   ]
  },
  {
   "cell_type": "code",
   "execution_count": null,
   "metadata": {},
   "outputs": [],
   "source": [
    "classify_all_squares(grid)"
   ]
  },
  {
   "cell_type": "code",
   "execution_count": null,
   "metadata": {},
   "outputs": [],
   "source": [
    "# font \n",
    "font = cv2.FONT_HERSHEY_SIMPLEX   \n",
    "# fontScale \n",
    "fontScale = 1   \n",
    "# Blue color in BGR \n",
    "color = (0, 255, 0) \n",
    "# Line thickness of 2 px \n",
    "thickness = 2\n",
    "type_to_text = {\n",
    "    SquareType.HINT : \"H\",\n",
    "    SquareType.MULTIHINT : \"M\",\n",
    "    SquareType.IRRELEVANT : \"I\",\n",
    "    SquareType.EMPTY : \"E\",\n",
    "}\n",
    "\n",
    "for gs in grid.flatten():\n",
    "    \n",
    "    t = type_to_text[gs.type]\n",
    "    plotting_image = cv2.circle(plotting_image, (gs.x_min,gs.y_min), radius=5, color=(0, 255, 0), thickness=-1)\n",
    "    plotting_image = cv2.putText(plotting_image, t, (gs.x_min+20,gs.y_max-20), font,  fontScale, color, thickness, cv2.LINE_AA)\n",
    "        \n",
    "# Display the result\n",
    "display_image(plotting_image)      \n"
   ]
  },
  {
   "cell_type": "code",
   "execution_count": null,
   "metadata": {},
   "outputs": [],
   "source": [
    "for gs in grid.flatten():\n",
    "    if gs.type == SquareType.MULTIHINT:\n",
    "        print(gs.right_hint_len, gs.bottom_hint_len)\n",
    "        print(gs.text)"
   ]
  },
  {
   "cell_type": "code",
   "execution_count": null,
   "metadata": {},
   "outputs": [],
   "source": [
    "grid"
   ]
  },
  {
   "cell_type": "code",
   "execution_count": null,
   "metadata": {},
   "outputs": [],
   "source": []
  }
 ],
 "metadata": {
  "kernelspec": {
   "display_name": "ristsona",
   "language": "python",
   "name": "python3"
  },
  "language_info": {
   "codemirror_mode": {
    "name": "ipython",
    "version": 3
   },
   "file_extension": ".py",
   "mimetype": "text/x-python",
   "name": "python",
   "nbconvert_exporter": "python",
   "pygments_lexer": "ipython3",
   "version": "3.10.13"
  }
 },
 "nbformat": 4,
 "nbformat_minor": 2
}
